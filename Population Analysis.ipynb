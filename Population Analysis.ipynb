{
 "cells": [
  {
   "cell_type": "code",
   "execution_count": 1,
   "metadata": {},
   "outputs": [],
   "source": [
    "# Dependencies and Setup\n",
    "import matplotlib.pyplot as plt\n",
    "import pandas as pd\n",
    "import scipy.stats as st"
   ]
  },
  {
   "cell_type": "code",
   "execution_count": 6,
   "metadata": {},
   "outputs": [
    {
     "ename": "SyntaxError",
     "evalue": "invalid decimal literal (<ipython-input-6-64910a43c9f7>, line 6)",
     "output_type": "error",
     "traceback": [
      "\u001b[1;36m  File \u001b[1;32m\"<ipython-input-6-64910a43c9f7>\"\u001b[1;36m, line \u001b[1;32m6\u001b[0m\n\u001b[1;33m    txpopulationcounty_metadata = pd.read_csv(txpopulationbycounty_2010-2019_metadata_path)\u001b[0m\n\u001b[1;37m                                                                            ^\u001b[0m\n\u001b[1;31mSyntaxError\u001b[0m\u001b[1;31m:\u001b[0m invalid decimal literal\n"
     ]
    }
   ],
   "source": [
    "#Read Data Files\n",
    "txpopulationbycounty_metadata_path = \"txpopulationbycounty 2010-2019.csv\"\n",
    "TXPOP_metadata_path =\"TXPOP.csv\"\n",
    "\n",
    "# Read the data\n",
    "txpopulationcounty_metadata = pd.read_csv(txpopulationbycounty_2010-2019_metadata_path)\n",
    "total_population_metadata = pd.read_csv(TXPOP_metadata_path)\n",
    "\n",
    "total_population.head()\n",
    "\n"
   ]
  },
  {
   "cell_type": "code",
   "execution_count": null,
   "metadata": {},
   "outputs": [],
   "source": []
  }
 ],
 "metadata": {
  "kernelspec": {
   "display_name": "Python [conda env:root] *",
   "language": "python",
   "name": "conda-root-py"
  },
  "language_info": {
   "codemirror_mode": {
    "name": "ipython",
    "version": 3
   },
   "file_extension": ".py",
   "mimetype": "text/x-python",
   "name": "python",
   "nbconvert_exporter": "python",
   "pygments_lexer": "ipython3",
   "version": "3.8.5"
  }
 },
 "nbformat": 4,
 "nbformat_minor": 4
}
